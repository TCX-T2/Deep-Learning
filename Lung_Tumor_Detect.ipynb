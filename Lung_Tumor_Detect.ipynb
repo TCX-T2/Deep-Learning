{
  "cells": [
    {
      "cell_type": "code",
      "execution_count": 28,
      "metadata": {
        "colab": {
          "base_uri": "https://localhost:8080/"
        },
        "id": "yPX-_7RovS6T",
        "outputId": "84de729b-f91a-4aad-9b53-5bf966c8fc3d"
      },
      "outputs": [
        {
          "output_type": "stream",
          "name": "stdout",
          "text": [
            "Mounted at /content/drive\n"
          ]
        }
      ],
      "source": [
        "#imports\n",
        "\n",
        "import tensorflow as tf\n",
        "import os\n",
        "import cv2\n",
        "import random\n",
        "from PIL import Image\n",
        "import shutil\n",
        "from tensorflow.keras.preprocessing.image import ImageDataGenerator\n",
        "from tensorflow.keras.applications.mobilenet_v2 import preprocess_input\n",
        "from keras.utils import to_categorical\n",
        "from sklearn.utils import shuffle\n",
        "from tensorflow.keras.applications import VGG16\n",
        "from keras.src.metrics.confusion_metrics import activations\n",
        "from tensorflow.keras.models import Sequential\n",
        "from tensorflow.keras.layers import Conv2D,Dense,MaxPooling2D,Flatten,BatchNormalization,Dropout,Activation\n",
        "from tensorflow.keras.models import load_model\n",
        "from google.colab import drive\n",
        "drive.mount(\"/content/drive\", force_remount=True)"
      ]
    },
    {
      "cell_type": "code",
      "execution_count": 29,
      "metadata": {
        "colab": {
          "base_uri": "https://localhost:8080/"
        },
        "id": "u4q2i51uLERs",
        "outputId": "5ed434e9-fb31-41c7-8beb-6f86ea0a0eca"
      },
      "outputs": [
        {
          "output_type": "stream",
          "name": "stdout",
          "text": [
            "['valid', 'train', 'test']\n"
          ]
        },
        {
          "output_type": "execute_result",
          "data": {
            "text/plain": [
              "['squamous.cell.carcinoma', 'normal', 'large.cell.carcinoma', 'adenocarcinoma']"
            ]
          },
          "metadata": {},
          "execution_count": 29
        }
      ],
      "source": [
        "data_dir = '/content/drive/MyDrive/Data-Copy'\n",
        "train_folder = os.path.join(data_dir, 'train')\n",
        "valid_folder = os.path.join(data_dir, 'valid')\n",
        "test_folder = os.path.join(data_dir, 'test')\n",
        "print(os.listdir(data_dir))\n",
        "Cclasses = os.listdir(test_folder)\n",
        "Cclasses"
      ]
    },
    {
      "cell_type": "markdown",
      "source": [
        "# Data control"
      ],
      "metadata": {
        "id": "vnt0jnZOOs8_"
      }
    },
    {
      "cell_type": "code",
      "execution_count": null,
      "metadata": {
        "id": "ocg5e1_VF_4O"
      },
      "outputs": [],
      "source": [
        "\n",
        "#deleting corrupted files\n",
        "\n",
        "def filter_images(folder_path):\n",
        "    for root, dirs, files in os.walk(folder_path):\n",
        "        for filename in files:\n",
        "            file_path = os.path.join(root, filename)\n",
        "\n",
        "            if file_path.lower().endswith(('.png', '.jpg', '.jpeg', '.gif', '.bmp')):\n",
        "                try:\n",
        "\n",
        "                    with Image.open(file_path) as img:\n",
        "                        img.verify()\n",
        "                except OSError:\n",
        "\n",
        "                    print(f\"Removing: {file_path}\")\n",
        "                    os.remove(file_path)\n",
        "            else:\n",
        "\n",
        "                print(f\"Removing: {file_path} - Unsupported file type\")\n",
        "                os.remove(file_path)\n",
        "\n",
        "filter_images(test_folder)\n",
        "filter_images(train_folder)\n",
        "filter_images(valid_folder)\n"
      ]
    },
    {
      "cell_type": "code",
      "source": [
        "\n",
        "#  oversample a class\n",
        "def oversample_class(class_folder, target_count):\n",
        "    files = os.listdir(class_folder)\n",
        "    current_count = len(files)\n",
        "\n",
        "    oversample_count = target_count - current_count\n",
        "    if oversample_count > 0:\n",
        "        oversampled_files = random.choices(files, k=oversample_count)\n",
        "        for file in oversampled_files:\n",
        "            source_path = os.path.join(class_folder, file)\n",
        "            destination_path = os.path.join(class_folder, f\"copy_{file}\")\n",
        "            shutil.copyfile(source_path, destination_path)\n",
        "\n",
        "# undersample a class\n",
        "def undersample_class(class_folder, target_count):\n",
        "    files = os.listdir(class_folder)\n",
        "    current_count = len(files)\n",
        "\n",
        "    undersample_count = current_count - target_count\n",
        "    if undersample_count > 0:\n",
        "        undersampled_files = random.sample(files, k=undersample_count)\n",
        "        for file in undersampled_files:\n",
        "            file_path = os.path.join(class_folder, file)\n",
        "            os.remove(file_path)\n",
        "\n",
        "target_count = 181\n",
        "\n",
        "for Cclass in os.listdir(train_folder):\n",
        "    class_folder_train = os.path.join(train_folder, Cclass)\n",
        "\n",
        "    # oversampling\n",
        "    oversample_condition = len(os.listdir(class_folder_train)) < target_count\n",
        "    if oversample_condition:\n",
        "        oversample_class(class_folder_train, target_count)\n",
        "\n",
        "    # undersampling\n",
        "    undersample_condition = len(os.listdir(class_folder_train)) > target_count\n",
        "    if undersample_condition:\n",
        "        undersample_class(class_folder_train, target_count)\n"
      ],
      "metadata": {
        "id": "wPSy42sNpx_h"
      },
      "execution_count": null,
      "outputs": []
    },
    {
      "cell_type": "code",
      "execution_count": null,
      "metadata": {
        "colab": {
          "base_uri": "https://localhost:8080/"
        },
        "id": "G7hU85t7qt6J",
        "outputId": "d2053a7c-3e8c-4105-f818-28d56d7e7e56"
      },
      "outputs": [
        {
          "output_type": "stream",
          "name": "stdout",
          "text": [
            "Folder: /content/drive/MyDrive/Data-Copy/test\n",
            "  Class: adenocarcinoma - Count: 110 - Percentage: 36.07%\n",
            "  Class: large.cell.carcinoma - Count: 51 - Percentage: 16.72%\n",
            "  Class: normal - Count: 54 - Percentage: 17.70%\n",
            "  Class: squamous.cell.carcinoma - Count: 90 - Percentage: 29.51%\n",
            "  Total Files: 305\n",
            "\n",
            "Error counting files in /content/drive/MyDrive/Data-Copy/train/adenocarcinoma: [Errno 2] No such file or directory: '/content/drive/MyDrive/Data-Copy/train/adenocarcinoma'\n",
            "Error counting files in /content/drive/MyDrive/Data-Copy/train/large.cell.carcinoma: [Errno 2] No such file or directory: '/content/drive/MyDrive/Data-Copy/train/large.cell.carcinoma'\n",
            "Error counting files in /content/drive/MyDrive/Data-Copy/train/squamous.cell.carcinoma: [Errno 2] No such file or directory: '/content/drive/MyDrive/Data-Copy/train/squamous.cell.carcinoma'\n",
            "Folder: /content/drive/MyDrive/Data-Copy/train\n",
            "Error counting files in /content/drive/MyDrive/Data-Copy/train/adenocarcinoma: [Errno 2] No such file or directory: '/content/drive/MyDrive/Data-Copy/train/adenocarcinoma'\n",
            "Error counting files in /content/drive/MyDrive/Data-Copy/train/adenocarcinoma: [Errno 2] No such file or directory: '/content/drive/MyDrive/Data-Copy/train/adenocarcinoma'\n",
            "  Class: adenocarcinoma - Count: 0 - Percentage: 0.00%\n",
            "Error counting files in /content/drive/MyDrive/Data-Copy/train/large.cell.carcinoma: [Errno 2] No such file or directory: '/content/drive/MyDrive/Data-Copy/train/large.cell.carcinoma'\n",
            "Error counting files in /content/drive/MyDrive/Data-Copy/train/large.cell.carcinoma: [Errno 2] No such file or directory: '/content/drive/MyDrive/Data-Copy/train/large.cell.carcinoma'\n",
            "  Class: large.cell.carcinoma - Count: 0 - Percentage: 0.00%\n",
            "  Class: normal - Count: 176 - Percentage: 100.00%\n",
            "Error counting files in /content/drive/MyDrive/Data-Copy/train/squamous.cell.carcinoma: [Errno 2] No such file or directory: '/content/drive/MyDrive/Data-Copy/train/squamous.cell.carcinoma'\n",
            "Error counting files in /content/drive/MyDrive/Data-Copy/train/squamous.cell.carcinoma: [Errno 2] No such file or directory: '/content/drive/MyDrive/Data-Copy/train/squamous.cell.carcinoma'\n",
            "  Class: squamous.cell.carcinoma - Count: 0 - Percentage: 0.00%\n",
            "  Total Files: 176\n",
            "\n",
            "Error counting files in /content/drive/MyDrive/Data-Copy/valid/adenocarcinoma: [Errno 2] No such file or directory: '/content/drive/MyDrive/Data-Copy/valid/adenocarcinoma'\n",
            "Error counting files in /content/drive/MyDrive/Data-Copy/valid/large.cell.carcinoma: [Errno 2] No such file or directory: '/content/drive/MyDrive/Data-Copy/valid/large.cell.carcinoma'\n",
            "Error counting files in /content/drive/MyDrive/Data-Copy/valid/squamous.cell.carcinoma: [Errno 2] No such file or directory: '/content/drive/MyDrive/Data-Copy/valid/squamous.cell.carcinoma'\n",
            "Folder: /content/drive/MyDrive/Data-Copy/valid\n",
            "Error counting files in /content/drive/MyDrive/Data-Copy/valid/adenocarcinoma: [Errno 2] No such file or directory: '/content/drive/MyDrive/Data-Copy/valid/adenocarcinoma'\n",
            "Error counting files in /content/drive/MyDrive/Data-Copy/valid/adenocarcinoma: [Errno 2] No such file or directory: '/content/drive/MyDrive/Data-Copy/valid/adenocarcinoma'\n",
            "  Class: adenocarcinoma - Count: 0 - Percentage: 0.00%\n",
            "Error counting files in /content/drive/MyDrive/Data-Copy/valid/large.cell.carcinoma: [Errno 2] No such file or directory: '/content/drive/MyDrive/Data-Copy/valid/large.cell.carcinoma'\n",
            "Error counting files in /content/drive/MyDrive/Data-Copy/valid/large.cell.carcinoma: [Errno 2] No such file or directory: '/content/drive/MyDrive/Data-Copy/valid/large.cell.carcinoma'\n",
            "  Class: large.cell.carcinoma - Count: 0 - Percentage: 0.00%\n",
            "  Class: normal - Count: 13 - Percentage: 100.00%\n",
            "Error counting files in /content/drive/MyDrive/Data-Copy/valid/squamous.cell.carcinoma: [Errno 2] No such file or directory: '/content/drive/MyDrive/Data-Copy/valid/squamous.cell.carcinoma'\n",
            "Error counting files in /content/drive/MyDrive/Data-Copy/valid/squamous.cell.carcinoma: [Errno 2] No such file or directory: '/content/drive/MyDrive/Data-Copy/valid/squamous.cell.carcinoma'\n",
            "  Class: squamous.cell.carcinoma - Count: 0 - Percentage: 0.00%\n",
            "  Total Files: 13\n",
            "\n"
          ]
        }
      ],
      "source": [
        "\n",
        "\n",
        "\n",
        "# Function to count the number of files in a folder\n",
        "def count_files(folder_path):\n",
        "    try:\n",
        "        with os.scandir(folder_path) as entries:\n",
        "            return sum(1 for entry in entries if entry.is_file() and not entry.name.startswith('.'))\n",
        "    except OSError as e:\n",
        "        print(f\"Error counting files in {folder_path}: {e}\")\n",
        "        return 0\n",
        "\n",
        "# Function to calculate the percentage of files in a folder\n",
        "def calculate_percentage(folder_path, total_files):\n",
        "    folder_files = count_files(folder_path)\n",
        "    return (folder_files / total_files) * 100 if total_files > 0 else 0\n",
        "\n",
        "# Iterate through test, train, and valid folders\n",
        "for folder in [test_folder, train_folder, valid_folder]:\n",
        "    total_files = sum([count_files(os.path.join(folder, class_name)) for class_name in Cclasses])\n",
        "\n",
        "    print(f\"Folder: {folder}\")\n",
        "    for class_name in Cclasses:\n",
        "        class_folder = os.path.join(folder, class_name)\n",
        "        class_count = count_files(class_folder)\n",
        "        class_percentage = calculate_percentage(class_folder, total_files)\n",
        "        print(f\"  Class: {class_name} - Count: {class_count} - Percentage: {class_percentage:.2f}%\")\n",
        "\n",
        "    print(f\"  Total Files: {total_files}\")\n",
        "    print()\n",
        "\n"
      ]
    },
    {
      "cell_type": "markdown",
      "source": [
        "# Model"
      ],
      "metadata": {
        "id": "s34GxUnOO7af"
      }
    },
    {
      "cell_type": "code",
      "execution_count": null,
      "metadata": {
        "colab": {
          "base_uri": "https://localhost:8080/"
        },
        "id": "ta1p5Cqi0RVv",
        "outputId": "4a9bf520-e8ae-43d4-ed4b-2c0583eb3680"
      },
      "outputs": [
        {
          "output_type": "stream",
          "name": "stdout",
          "text": [
            "Found 702 images belonging to 4 classes.\n",
            "Found 72 images belonging to 4 classes.\n",
            "Found 305 images belonging to 4 classes.\n"
          ]
        }
      ],
      "source": [
        "\n",
        "#buiding generators\n",
        "basic_gen = ImageDataGenerator(\n",
        "    preprocessing_function = preprocess_input,\n",
        "    dtype = 'float32'\n",
        ")\n",
        "train_gen = ImageDataGenerator(\n",
        "    preprocessing_function = preprocess_input,\n",
        "    rotation_range = 20,\n",
        "    width_shift_range = 0.3,\n",
        "    height_shift_range = 0.3,\n",
        "    zoom_range = 0.2,\n",
        "    horizontal_flip = True,\n",
        "    vertical_flip = True,\n",
        "    dtype = 'float32'\n",
        ")\n",
        "#data gen\n",
        "train_data = train_gen.flow_from_directory(\n",
        "    train_folder,\n",
        "    target_size = (224,224),\n",
        "    batch_size = 16,\n",
        "    class_mode = 'categorical'\n",
        ")\n",
        "\n",
        "valid_data = basic_gen.flow_from_directory(\n",
        "    valid_folder,\n",
        "    target_size = (224,224),\n",
        "    batch_size = 16,\n",
        "    class_mode = 'categorical'\n",
        ")\n",
        "\n",
        "test_data = basic_gen.flow_from_directory(\n",
        "    test_folder,\n",
        "    target_size = (224,224),\n",
        "    batch_size = 16,\n",
        "    class_mode = 'categorical',\n",
        "    shuffle = True\n",
        ")\n",
        "\n"
      ]
    },
    {
      "cell_type": "code",
      "execution_count": null,
      "metadata": {
        "colab": {
          "base_uri": "https://localhost:8080/"
        },
        "id": "dEHtL777QMMI",
        "outputId": "650ffd71-7d9d-4921-c487-6a1be224e1ac"
      },
      "outputs": [
        {
          "output_type": "stream",
          "name": "stdout",
          "text": [
            "Model: \"sequential_1\"\n",
            "_________________________________________________________________\n",
            " Layer (type)                Output Shape              Param #   \n",
            "=================================================================\n",
            " vgg16 (Functional)          (None, 7, 7, 512)         14714688  \n",
            "                                                                 \n",
            " batch_normalization_1 (Bat  (None, 7, 7, 512)         2048      \n",
            " chNormalization)                                                \n",
            "                                                                 \n",
            " max_pooling2d_1 (MaxPoolin  (None, 3, 3, 512)         0         \n",
            " g2D)                                                            \n",
            "                                                                 \n",
            " flatten_1 (Flatten)         (None, 4608)              0         \n",
            "                                                                 \n",
            " dense_4 (Dense)             (None, 1024)              4719616   \n",
            "                                                                 \n",
            " dropout_2 (Dropout)         (None, 1024)              0         \n",
            "                                                                 \n",
            " dense_5 (Dense)             (None, 512)               524800    \n",
            "                                                                 \n",
            " dropout_3 (Dropout)         (None, 512)               0         \n",
            "                                                                 \n",
            " dense_6 (Dense)             (None, 256)               131328    \n",
            "                                                                 \n",
            " dense_7 (Dense)             (None, 4)                 1028      \n",
            "                                                                 \n",
            "=================================================================\n",
            "Total params: 20093508 (76.65 MB)\n",
            "Trainable params: 5377796 (20.51 MB)\n",
            "Non-trainable params: 14715712 (56.14 MB)\n",
            "_________________________________________________________________\n"
          ]
        }
      ],
      "source": [
        "#building model\n",
        "\n",
        "input_shape=(224,224,3)\n",
        "\n",
        "base_model = VGG16(\n",
        "    include_top = False,\n",
        "    weights=\"imagenet\",\n",
        "    input_shape = input_shape\n",
        ")\n",
        "\n",
        "#freezing layers to use the model as feature extractor\n",
        "for layer in base_model.layers:\n",
        "    layer.trainable = False\n",
        "\n",
        "\n",
        "model = Sequential()\n",
        "model.add(base_model)\n",
        "model.add(BatchNormalization())\n",
        "model.add(MaxPooling2D((2,2)))\n",
        "model.add(Flatten())\n",
        "model.add(Dense(1024,activation = 'relu'))\n",
        "model.add(Dropout(0.3))\n",
        "model.add(Dense(512,activation = 'relu'))\n",
        "model.add(Dropout(0.3))\n",
        "model.add(Dense(256,activation = 'relu'))\n",
        "model.add(Dense(4,activation = 'softmax'))\n",
        "model.summary()\n",
        "\n",
        "# Compile the model\n",
        "model.compile(optimizer='adam', loss='categorical_crossentropy', metrics=['accuracy'])\n",
        "\n"
      ]
    },
    {
      "cell_type": "code",
      "execution_count": null,
      "metadata": {
        "colab": {
          "base_uri": "https://localhost:8080/"
        },
        "id": "I0BMxCxF6Cqz",
        "outputId": "4ec0ae69-0e39-481d-fe4f-f2f2c6826cff"
      },
      "outputs": [
        {
          "output_type": "stream",
          "name": "stdout",
          "text": [
            "Epoch 1/10\n",
            "44/44 [==============================] - 16s 352ms/step - loss: 0.7691 - accuracy: 0.6895 - val_loss: 0.9042 - val_accuracy: 0.5278\n",
            "Epoch 2/10\n",
            "44/44 [==============================] - 15s 349ms/step - loss: 0.7922 - accuracy: 0.6197 - val_loss: 1.2546 - val_accuracy: 0.4583\n",
            "Epoch 3/10\n",
            "44/44 [==============================] - 15s 346ms/step - loss: 0.7859 - accuracy: 0.6595 - val_loss: 0.9808 - val_accuracy: 0.5278\n",
            "Epoch 4/10\n",
            "44/44 [==============================] - 15s 340ms/step - loss: 0.7119 - accuracy: 0.6852 - val_loss: 1.0584 - val_accuracy: 0.5000\n",
            "Epoch 5/10\n",
            "44/44 [==============================] - 15s 342ms/step - loss: 0.7820 - accuracy: 0.6809 - val_loss: 0.9489 - val_accuracy: 0.5972\n",
            "Epoch 6/10\n",
            "44/44 [==============================] - 15s 339ms/step - loss: 0.6811 - accuracy: 0.7066 - val_loss: 0.9293 - val_accuracy: 0.6944\n",
            "Epoch 7/10\n",
            "44/44 [==============================] - 15s 342ms/step - loss: 0.7086 - accuracy: 0.6937 - val_loss: 0.9320 - val_accuracy: 0.6111\n",
            "Epoch 8/10\n",
            "44/44 [==============================] - 15s 339ms/step - loss: 0.6720 - accuracy: 0.7108 - val_loss: 0.9550 - val_accuracy: 0.6111\n",
            "Epoch 9/10\n",
            "44/44 [==============================] - 15s 340ms/step - loss: 0.6030 - accuracy: 0.7179 - val_loss: 0.9532 - val_accuracy: 0.6111\n",
            "Epoch 10/10\n",
            "44/44 [==============================] - 15s 336ms/step - loss: 0.6874 - accuracy: 0.7137 - val_loss: 0.9642 - val_accuracy: 0.6250\n"
          ]
        }
      ],
      "source": [
        "reduce_lr = tf.keras.callbacks.ReduceLROnPlateau(\n",
        "    monitor='val_loss', factor=0.2, patience=3, min_lr=0.0001\n",
        ")\n",
        "\n",
        "callbacks = [\n",
        "    tf.keras.callbacks.EarlyStopping(patience=5),\n",
        "    tf.keras.callbacks.ModelCheckpoint('model.h5',save_best_only=True),\n",
        "    tf.keras.callbacks.TensorBoard(log_dir='logs'),\n",
        "    reduce_lr\n",
        "]\n",
        "results = model.fit(train_data, validation_data=valid_data, epochs=10, verbose=1)\n"
      ]
    },
    {
      "cell_type": "code",
      "execution_count": null,
      "metadata": {
        "id": "KJlesVZDi3Td"
      },
      "outputs": [],
      "source": [
        "model.save('/content/drive/MyDrive/ModelData')"
      ]
    },
    {
      "cell_type": "code",
      "source": [
        "\n",
        "Tumour_detect = load_model('/content/drive/MyDrive/ModelData')\n"
      ],
      "metadata": {
        "id": "nHnnicj_JxjM",
        "colab": {
          "base_uri": "https://localhost:8080/",
          "height": 391
        },
        "outputId": "0bbb8891-7392-4b36-95ad-f2bc0212b91c"
      },
      "execution_count": null,
      "outputs": [
        {
          "output_type": "error",
          "ename": "OSError",
          "evalue": "No file or directory found at /content/drive/MyDrive/ModelData",
          "traceback": [
            "\u001b[0;31m---------------------------------------------------------------------------\u001b[0m",
            "\u001b[0;31mOSError\u001b[0m                                   Traceback (most recent call last)",
            "\u001b[0;32m<ipython-input-5-49227ae38513>\u001b[0m in \u001b[0;36m<cell line: 1>\u001b[0;34m()\u001b[0m\n\u001b[0;32m----> 1\u001b[0;31m \u001b[0mTumour_detect\u001b[0m \u001b[0;34m=\u001b[0m \u001b[0mload_model\u001b[0m\u001b[0;34m(\u001b[0m\u001b[0;34m'/content/drive/MyDrive/ModelData'\u001b[0m\u001b[0;34m)\u001b[0m\u001b[0;34m\u001b[0m\u001b[0;34m\u001b[0m\u001b[0m\n\u001b[0m\u001b[1;32m      2\u001b[0m \u001b[0mget_ipython\u001b[0m\u001b[0;34m(\u001b[0m\u001b[0;34m)\u001b[0m\u001b[0;34m.\u001b[0m\u001b[0msystem\u001b[0m\u001b[0;34m(\u001b[0m\u001b[0;34m'pip install tensorflow'\u001b[0m\u001b[0;34m)\u001b[0m\u001b[0;34m\u001b[0m\u001b[0;34m\u001b[0m\u001b[0m\n\u001b[1;32m      3\u001b[0m \u001b[0;32mimport\u001b[0m \u001b[0mtensorflow\u001b[0m \u001b[0;32mas\u001b[0m \u001b[0mtf\u001b[0m\u001b[0;34m\u001b[0m\u001b[0;34m\u001b[0m\u001b[0m\n\u001b[1;32m      4\u001b[0m \u001b[0;32mfrom\u001b[0m \u001b[0mtensorflow\u001b[0m\u001b[0;34m.\u001b[0m\u001b[0mkeras\u001b[0m\u001b[0;34m.\u001b[0m\u001b[0mpreprocessing\u001b[0m \u001b[0;32mimport\u001b[0m \u001b[0mimage\u001b[0m\u001b[0;34m\u001b[0m\u001b[0;34m\u001b[0m\u001b[0m\n\u001b[1;32m      5\u001b[0m \u001b[0;32mimport\u001b[0m \u001b[0mnumpy\u001b[0m \u001b[0;32mas\u001b[0m \u001b[0mnp\u001b[0m\u001b[0;34m\u001b[0m\u001b[0;34m\u001b[0m\u001b[0m\n",
            "\u001b[0;32m/usr/local/lib/python3.10/dist-packages/keras/src/saving/saving_api.py\u001b[0m in \u001b[0;36mload_model\u001b[0;34m(filepath, custom_objects, compile, safe_mode, **kwargs)\u001b[0m\n\u001b[1;32m    260\u001b[0m \u001b[0;34m\u001b[0m\u001b[0m\n\u001b[1;32m    261\u001b[0m     \u001b[0;31m# Legacy case.\u001b[0m\u001b[0;34m\u001b[0m\u001b[0;34m\u001b[0m\u001b[0m\n\u001b[0;32m--> 262\u001b[0;31m     return legacy_sm_saving_lib.load_model(\n\u001b[0m\u001b[1;32m    263\u001b[0m         \u001b[0mfilepath\u001b[0m\u001b[0;34m,\u001b[0m \u001b[0mcustom_objects\u001b[0m\u001b[0;34m=\u001b[0m\u001b[0mcustom_objects\u001b[0m\u001b[0;34m,\u001b[0m \u001b[0mcompile\u001b[0m\u001b[0;34m=\u001b[0m\u001b[0mcompile\u001b[0m\u001b[0;34m,\u001b[0m \u001b[0;34m**\u001b[0m\u001b[0mkwargs\u001b[0m\u001b[0;34m\u001b[0m\u001b[0;34m\u001b[0m\u001b[0m\n\u001b[1;32m    264\u001b[0m     )\n",
            "\u001b[0;32m/usr/local/lib/python3.10/dist-packages/keras/src/utils/traceback_utils.py\u001b[0m in \u001b[0;36merror_handler\u001b[0;34m(*args, **kwargs)\u001b[0m\n\u001b[1;32m     68\u001b[0m             \u001b[0;31m# To get the full stack trace, call:\u001b[0m\u001b[0;34m\u001b[0m\u001b[0;34m\u001b[0m\u001b[0m\n\u001b[1;32m     69\u001b[0m             \u001b[0;31m# `tf.debugging.disable_traceback_filtering()`\u001b[0m\u001b[0;34m\u001b[0m\u001b[0;34m\u001b[0m\u001b[0m\n\u001b[0;32m---> 70\u001b[0;31m             \u001b[0;32mraise\u001b[0m \u001b[0me\u001b[0m\u001b[0;34m.\u001b[0m\u001b[0mwith_traceback\u001b[0m\u001b[0;34m(\u001b[0m\u001b[0mfiltered_tb\u001b[0m\u001b[0;34m)\u001b[0m \u001b[0;32mfrom\u001b[0m \u001b[0;32mNone\u001b[0m\u001b[0;34m\u001b[0m\u001b[0;34m\u001b[0m\u001b[0m\n\u001b[0m\u001b[1;32m     71\u001b[0m         \u001b[0;32mfinally\u001b[0m\u001b[0;34m:\u001b[0m\u001b[0;34m\u001b[0m\u001b[0;34m\u001b[0m\u001b[0m\n\u001b[1;32m     72\u001b[0m             \u001b[0;32mdel\u001b[0m \u001b[0mfiltered_tb\u001b[0m\u001b[0;34m\u001b[0m\u001b[0;34m\u001b[0m\u001b[0m\n",
            "\u001b[0;32m/usr/local/lib/python3.10/dist-packages/keras/src/saving/legacy/save.py\u001b[0m in \u001b[0;36mload_model\u001b[0;34m(filepath, custom_objects, compile, options)\u001b[0m\n\u001b[1;32m    232\u001b[0m                     \u001b[0;32mif\u001b[0m \u001b[0misinstance\u001b[0m\u001b[0;34m(\u001b[0m\u001b[0mfilepath_str\u001b[0m\u001b[0;34m,\u001b[0m \u001b[0mstr\u001b[0m\u001b[0;34m)\u001b[0m\u001b[0;34m:\u001b[0m\u001b[0;34m\u001b[0m\u001b[0;34m\u001b[0m\u001b[0m\n\u001b[1;32m    233\u001b[0m                         \u001b[0;32mif\u001b[0m \u001b[0;32mnot\u001b[0m \u001b[0mtf\u001b[0m\u001b[0;34m.\u001b[0m\u001b[0mio\u001b[0m\u001b[0;34m.\u001b[0m\u001b[0mgfile\u001b[0m\u001b[0;34m.\u001b[0m\u001b[0mexists\u001b[0m\u001b[0;34m(\u001b[0m\u001b[0mfilepath_str\u001b[0m\u001b[0;34m)\u001b[0m\u001b[0;34m:\u001b[0m\u001b[0;34m\u001b[0m\u001b[0;34m\u001b[0m\u001b[0m\n\u001b[0;32m--> 234\u001b[0;31m                             raise IOError(\n\u001b[0m\u001b[1;32m    235\u001b[0m                                 \u001b[0;34mf\"No file or directory found at {filepath_str}\"\u001b[0m\u001b[0;34m\u001b[0m\u001b[0;34m\u001b[0m\u001b[0m\n\u001b[1;32m    236\u001b[0m                             )\n",
            "\u001b[0;31mOSError\u001b[0m: No file or directory found at /content/drive/MyDrive/ModelData"
          ]
        }
      ]
    },
    {
      "cell_type": "code",
      "source": [
        "loss, acc = Tumour_detect.evaluate(test_data,verbose = 1)"
      ],
      "metadata": {
        "id": "nkj7NlywKOiK",
        "outputId": "e4e770f3-5b7b-4798-be61-f6b916a4a13a",
        "colab": {
          "base_uri": "https://localhost:8080/"
        }
      },
      "execution_count": null,
      "outputs": [
        {
          "output_type": "stream",
          "name": "stdout",
          "text": [
            "20/20 [==============================] - 4s 170ms/step - loss: 0.8436 - accuracy: 0.6230\n"
          ]
        }
      ]
    },
    {
      "cell_type": "markdown",
      "source": [
        "# Evaluation"
      ],
      "metadata": {
        "id": "YPukwveeI3Y0"
      }
    },
    {
      "cell_type": "code",
      "source": [
        "#imports\n",
        "from sklearn.metrics import classification_report,confusion_matrix\n",
        "import matplotlib.pyplot as plt\n",
        "from tensorflow.keras.preprocessing import image\n",
        "import seaborn as sns\n",
        "import numpy as np\n",
        "import cv2\n"
      ],
      "metadata": {
        "id": "2E1_Vb0fJV3p"
      },
      "execution_count": null,
      "outputs": []
    },
    {
      "cell_type": "code",
      "source": [
        "res = results.history\n",
        "train_acc = res['accuracy']\n",
        "val_accuracy = res['val_accuracy']\n",
        "epochs = range(1, len(train_acc) + 1)\n",
        "\n",
        "line1 = plt.plot(epochs, val_accuracy, label = 'Validation/Test Accuracy')\n",
        "line2 = plt.plot(epochs, train_acc, label = 'Training Accuracy')\n",
        "\n",
        "plt.setp(line1, linewidth = 1.8, marker = 'o', markersize = 6.5)\n",
        "plt.setp(line2, linewidth = 1.8, marker = 's', markersize = 5)\n",
        "plt.xlabel('Epochs')\n",
        "plt.ylabel('Accuracy')\n",
        "plt.grid(True)\n",
        "plt.legend()\n",
        "plt.show()"
      ],
      "metadata": {
        "colab": {
          "base_uri": "https://localhost:8080/",
          "height": 449
        },
        "id": "Nhw72FVzyQgH",
        "outputId": "a8c7d06b-bb85-4a60-9e51-2784f40bb712"
      },
      "execution_count": null,
      "outputs": [
        {
          "output_type": "display_data",
          "data": {
            "text/plain": [
              "<Figure size 640x480 with 1 Axes>"
            ],
            "image/png": "[encoded data removed]"
          },
          "metadata": {}
        }
      ]
    },
    {
      "cell_type": "code",
      "source": [
        "!pip install tensorflow"
      ],
      "metadata": {
        "colab": {
          "base_uri": "https://localhost:8080/"
        },
        "id": "WtYkz6sTBWo2",
        "outputId": "e694f91f-1242-434a-e66c-bd439eeb456f"
      },
      "execution_count": null,
      "outputs": [
        {
          "output_type": "stream",
          "name": "stdout",
          "text": [
            "Requirement already satisfied: tensorflow in /usr/local/lib/python3.10/dist-packages (2.15.0)\n",
            "Requirement already satisfied: absl-py>=1.0.0 in /usr/local/lib/python3.10/dist-packages (from tensorflow) (1.4.0)\n",
            "Requirement already satisfied: astunparse>=1.6.0 in /usr/local/lib/python3.10/dist-packages (from tensorflow) (1.6.3)\n",
            "Requirement already satisfied: flatbuffers>=23.5.26 in /usr/local/lib/python3.10/dist-packages (from tensorflow) (23.5.26)\n",
            "Requirement already satisfied: gast!=0.5.0,!=0.5.1,!=0.5.2,>=0.2.1 in /usr/local/lib/python3.10/dist-packages (from tensorflow) (0.5.4)\n",
            "Requirement already satisfied: google-pasta>=0.1.1 in /usr/local/lib/python3.10/dist-packages (from tensorflow) (0.2.0)\n",
            "Requirement already satisfied: h5py>=2.9.0 in /usr/local/lib/python3.10/dist-packages (from tensorflow) (3.9.0)\n",
            "Requirement already satisfied: libclang>=13.0.0 in /usr/local/lib/python3.10/dist-packages (from tensorflow) (16.0.6)\n",
            "Requirement already satisfied: ml-dtypes~=0.2.0 in /usr/local/lib/python3.10/dist-packages (from tensorflow) (0.2.0)\n",
            "Requirement already satisfied: numpy<2.0.0,>=1.23.5 in /usr/local/lib/python3.10/dist-packages (from tensorflow) (1.23.5)\n",
            "Requirement already satisfied: opt-einsum>=2.3.2 in /usr/local/lib/python3.10/dist-packages (from tensorflow) (3.3.0)\n",
            "Requirement already satisfied: packaging in /usr/local/lib/python3.10/dist-packages (from tensorflow) (23.2)\n",
            "Requirement already satisfied: protobuf!=4.21.0,!=4.21.1,!=4.21.2,!=4.21.3,!=4.21.4,!=4.21.5,<5.0.0dev,>=3.20.3 in /usr/local/lib/python3.10/dist-packages (from tensorflow) (3.20.3)\n",
            "Requirement already satisfied: setuptools in /usr/local/lib/python3.10/dist-packages (from tensorflow) (67.7.2)\n",
            "Requirement already satisfied: six>=1.12.0 in /usr/local/lib/python3.10/dist-packages (from tensorflow) (1.16.0)\n",
            "Requirement already satisfied: termcolor>=1.1.0 in /usr/local/lib/python3.10/dist-packages (from tensorflow) (2.4.0)\n",
            "Requirement already satisfied: typing-extensions>=3.6.6 in /usr/local/lib/python3.10/dist-packages (from tensorflow) (4.5.0)\n",
            "Requirement already satisfied: wrapt<1.15,>=1.11.0 in /usr/local/lib/python3.10/dist-packages (from tensorflow) (1.14.1)\n",
            "Requirement already satisfied: tensorflow-io-gcs-filesystem>=0.23.1 in /usr/local/lib/python3.10/dist-packages (from tensorflow) (0.35.0)\n",
            "Requirement already satisfied: grpcio<2.0,>=1.24.3 in /usr/local/lib/python3.10/dist-packages (from tensorflow) (1.60.0)\n",
            "Requirement already satisfied: tensorboard<2.16,>=2.15 in /usr/local/lib/python3.10/dist-packages (from tensorflow) (2.15.1)\n",
            "Requirement already satisfied: tensorflow-estimator<2.16,>=2.15.0 in /usr/local/lib/python3.10/dist-packages (from tensorflow) (2.15.0)\n",
            "Requirement already satisfied: keras<2.16,>=2.15.0 in /usr/local/lib/python3.10/dist-packages (from tensorflow) (2.15.0)\n",
            "Requirement already satisfied: wheel<1.0,>=0.23.0 in /usr/local/lib/python3.10/dist-packages (from astunparse>=1.6.0->tensorflow) (0.42.0)\n",
            "Requirement already satisfied: google-auth<3,>=1.6.3 in /usr/local/lib/python3.10/dist-packages (from tensorboard<2.16,>=2.15->tensorflow) (2.17.3)\n",
            "Requirement already satisfied: google-auth-oauthlib<2,>=0.5 in /usr/local/lib/python3.10/dist-packages (from tensorboard<2.16,>=2.15->tensorflow) (1.2.0)\n",
            "Requirement already satisfied: markdown>=2.6.8 in /usr/local/lib/python3.10/dist-packages (from tensorboard<2.16,>=2.15->tensorflow) (3.5.1)\n",
            "Requirement already satisfied: requests<3,>=2.21.0 in /usr/local/lib/python3.10/dist-packages (from tensorboard<2.16,>=2.15->tensorflow) (2.31.0)\n",
            "Requirement already satisfied: tensorboard-data-server<0.8.0,>=0.7.0 in /usr/local/lib/python3.10/dist-packages (from tensorboard<2.16,>=2.15->tensorflow) (0.7.2)\n",
            "Requirement already satisfied: werkzeug>=1.0.1 in /usr/local/lib/python3.10/dist-packages (from tensorboard<2.16,>=2.15->tensorflow) (3.0.1)\n",
            "Requirement already satisfied: cachetools<6.0,>=2.0.0 in /usr/local/lib/python3.10/dist-packages (from google-auth<3,>=1.6.3->tensorboard<2.16,>=2.15->tensorflow) (5.3.2)\n",
            "Requirement already satisfied: pyasn1-modules>=0.2.1 in /usr/local/lib/python3.10/dist-packages (from google-auth<3,>=1.6.3->tensorboard<2.16,>=2.15->tensorflow) (0.3.0)\n",
            "Requirement already satisfied: rsa<5,>=3.1.4 in /usr/local/lib/python3.10/dist-packages (from google-auth<3,>=1.6.3->tensorboard<2.16,>=2.15->tensorflow) (4.9)\n",
            "Requirement already satisfied: requests-oauthlib>=0.7.0 in /usr/local/lib/python3.10/dist-packages (from google-auth-oauthlib<2,>=0.5->tensorboard<2.16,>=2.15->tensorflow) (1.3.1)\n",
            "Requirement already satisfied: charset-normalizer<4,>=2 in /usr/local/lib/python3.10/dist-packages (from requests<3,>=2.21.0->tensorboard<2.16,>=2.15->tensorflow) (3.3.2)\n",
            "Requirement already satisfied: idna<4,>=2.5 in /usr/local/lib/python3.10/dist-packages (from requests<3,>=2.21.0->tensorboard<2.16,>=2.15->tensorflow) (3.6)\n",
            "Requirement already satisfied: urllib3<3,>=1.21.1 in /usr/local/lib/python3.10/dist-packages (from requests<3,>=2.21.0->tensorboard<2.16,>=2.15->tensorflow) (2.0.7)\n",
            "Requirement already satisfied: certifi>=2017.4.17 in /usr/local/lib/python3.10/dist-packages (from requests<3,>=2.21.0->tensorboard<2.16,>=2.15->tensorflow) (2023.11.17)\n",
            "Requirement already satisfied: MarkupSafe>=2.1.1 in /usr/local/lib/python3.10/dist-packages (from werkzeug>=1.0.1->tensorboard<2.16,>=2.15->tensorflow) (2.1.3)\n",
            "Requirement already satisfied: pyasn1<0.6.0,>=0.4.6 in /usr/local/lib/python3.10/dist-packages (from pyasn1-modules>=0.2.1->google-auth<3,>=1.6.3->tensorboard<2.16,>=2.15->tensorflow) (0.5.1)\n",
            "Requirement already satisfied: oauthlib>=3.0.0 in /usr/local/lib/python3.10/dist-packages (from requests-oauthlib>=0.7.0->google-auth-oauthlib<2,>=0.5->tensorboard<2.16,>=2.15->tensorflow) (3.2.2)\n"
          ]
        }
      ]
    },
    {
      "cell_type": "code",
      "source": [
        "import tensorflow as tf\n",
        "from tensorflow.keras.preprocessing import image\n",
        "import numpy as np\n",
        "from PIL import Image\n",
        "from tensorflow.keras.applications.mobilenet_v2 import preprocess_input\n",
        "\n",
        "# Load model\n",
        "Tumour_detect = tf.keras.models.load_model('/content/drive/MyDrive/ModelData')  # change this to the model data path\n",
        "\n",
        "class_labels = {0: 'adenocarcinoma', 1: 'large.cell.carcinoma', 2: 'normal', 3: 'squamous.cell.carcinoma'}\n",
        "\n",
        "treatments_dict = {\n",
        "    0: \"Adenocarcinoma is often treated with a combination of surgery, chemotherapy, and targeted therapy.\",\n",
        "    1: \"Large cell carcinoma treatment may involve surgery, chemotherapy, and radiation therapy.\",\n",
        "    3: \"Squamous cell carcinoma treatment may include surgery, radiation therapy, and immunotherapy.\",\n",
        "}\n",
        "\n",
        "def preprocess_image(img_path):\n",
        "    img = image.load_img(img_path, target_size=(224, 224))\n",
        "    img_array = image.img_to_array(img)\n",
        "    img_array = preprocess_input(img_array)\n",
        "    return img_array\n",
        "\n",
        "def predict(image_path, model):\n",
        "    img_array = Image.open(image_path).convert(\"RGB\")\n",
        "    img_array = img_array.resize((224, 224))\n",
        "    img_array = np.array(img_array)\n",
        "    img_array = preprocess_input(img_array)\n",
        "    img_array = np.expand_dims(img_array, axis=0)  # Expand dimensions to match model's expected input shape\n",
        "    predictions = model.predict(img_array)\n",
        "    predicted_class = np.argmax(predictions)\n",
        "    return predicted_class\n",
        "\n",
        "# Colab widget for file uploading\n",
        "from google.colab import files\n",
        "\n",
        "uploaded_file = files.upload()\n",
        "\n",
        "if len(uploaded_file) > 0:\n",
        "    # Get the first uploaded file\n",
        "    file_path = list(uploaded_file.keys())[0]\n",
        "\n",
        "    predicted_class = predict(file_path, Tumour_detect)\n",
        "\n",
        "    # Display the results\n",
        "    img = Image.open(file_path).convert(\"RGB\")\n",
        "    img = img.resize((224, 224))\n",
        "    display(img)\n",
        "\n",
        "    print(f\"Predicted: {class_labels[predicted_class]}\")\n",
        "\n",
        "    if predicted_class != 2:  # normal class doesn't need treatment\n",
        "        recommended_treatments = treatments_dict.get(predicted_class, \"No specific treatments available.\")\n",
        "        print(\"Recommended Treatments:\")\n",
        "        print(recommended_treatments)\n",
        "    else:\n",
        "        print(\"No specific treatments are recommended. Regular health check-ups are advised.\")\n"
      ],
      "metadata": {
        "colab": {
          "base_uri": "https://localhost:8080/",
          "height": 349
        },
        "id": "oSugEdRw9hIY",
        "outputId": "bc69224d-b3ac-4bc3-e77d-99b5d8f45d91"
      },
      "execution_count": null,
      "outputs": [
        {
          "output_type": "display_data",
          "data": {
            "text/plain": [
              "<IPython.core.display.HTML object>"
            ],
            "text/html": [
              "\n",
              "     <input type=\"file\" id=\"files-d20ac13c-c97d-4dbc-9834-a359c4990588\" name=\"files[]\" multiple disabled\n",
              "        style=\"border:none\" />\n",
              "     <output id=\"result-d20ac13c-c97d-4dbc-9834-a359c4990588\">\n",
              "      Upload widget is only available when the cell has been executed in the\n",
              "      current browser session. Please rerun this cell to enable.\n",
              "      </output>\n",
              "      <script>// Copyright 2017 Google LLC\n",
              "//\n",
              "// Licensed under the Apache License, Version 2.0 (the \"License\");\n",
              "// you may not use this file except in compliance with the License.\n",
              "// You may obtain a copy of the License at\n",
              "//\n",
              "//      http://www.apache.org/licenses/LICENSE-2.0\n",
              "//\n",
              "// Unless required by applicable law or agreed to in writing, software\n",
              "// distributed under the License is distributed on an \"AS IS\" BASIS,\n",
              "// WITHOUT WARRANTIES OR CONDITIONS OF ANY KIND, either express or implied.\n",
              "// See the License for the specific language governing permissions and\n",
              "// limitations under the License.\n",
              "\n",
              "/**\n",
              " * @fileoverview Helpers for google.colab Python module.\n",
              " */\n",
              "(function(scope) {\n",
              "function span(text, styleAttributes = {}) {\n",
              "  const element = document.createElement('span');\n",
              "  element.textContent = text;\n",
              "  for (const key of Object.keys(styleAttributes)) {\n",
              "    element.style[key] = styleAttributes[key];\n",
              "  }\n",
              "  return element;\n",
              "}\n",
              "\n",
              "// Max number of bytes which will be uploaded at a time.\n",
              "const MAX_PAYLOAD_SIZE = 100 * 1024;\n",
              "\n",
              "function _uploadFiles(inputId, outputId) {\n",
              "  const steps = uploadFilesStep(inputId, outputId);\n",
              "  const outputElement = document.getElementById(outputId);\n",
              "  // Cache steps on the outputElement to make it available for the next call\n",
              "  // to uploadFilesContinue from Python.\n",
              "  outputElement.steps = steps;\n",
              "\n",
              "  return _uploadFilesContinue(outputId);\n",
              "}\n",
              "\n",
              "// This is roughly an async generator (not supported in the browser yet),\n",
              "// where there are multiple asynchronous steps and the Python side is going\n",
              "// to poll for completion of each step.\n",
              "// This uses a Promise to block the python side on completion of each step,\n",
              "// then passes the result of the previous step as the input to the next step.\n",
              "function _uploadFilesContinue(outputId) {\n",
              "  const outputElement = document.getElementById(outputId);\n",
              "  const steps = outputElement.steps;\n",
              "\n",
              "  const next = steps.next(outputElement.lastPromiseValue);\n",
              "  return Promise.resolve(next.value.promise).then((value) => {\n",
              "    // Cache the last promise value to make it available to the next\n",
              "    // step of the generator.\n",
              "    outputElement.lastPromiseValue = value;\n",
              "    return next.value.response;\n",
              "  });\n",
              "}\n",
              "\n",
              "/**\n",
              " * Generator function which is called between each async step of the upload\n",
              " * process.\n",
              " * @param {string} inputId Element ID of the input file picker element.\n",
              " * @param {string} outputId Element ID of the output display.\n",
              " * @return {!Iterable<!Object>} Iterable of next steps.\n",
              " */\n",
              "function* uploadFilesStep(inputId, outputId) {\n",
              "  const inputElement = document.getElementById(inputId);\n",
              "  inputElement.disabled = false;\n",
              "\n",
              "  const outputElement = document.getElementById(outputId);\n",
              "  outputElement.innerHTML = '';\n",
              "\n",
              "  const pickedPromise = new Promise((resolve) => {\n",
              "    inputElement.addEventListener('change', (e) => {\n",
              "      resolve(e.target.files);\n",
              "    });\n",
              "  });\n",
              "\n",
              "  const cancel = document.createElement('button');\n",
              "  inputElement.parentElement.appendChild(cancel);\n",
              "  cancel.textContent = 'Cancel upload';\n",
              "  const cancelPromise = new Promise((resolve) => {\n",
              "    cancel.onclick = () => {\n",
              "      resolve(null);\n",
              "    };\n",
              "  });\n",
              "\n",
              "  // Wait for the user to pick the files.\n",
              "  const files = yield {\n",
              "    promise: Promise.race([pickedPromise, cancelPromise]),\n",
              "    response: {\n",
              "      action: 'starting',\n",
              "    }\n",
              "  };\n",
              "\n",
              "  cancel.remove();\n",
              "\n",
              "  // Disable the input element since further picks are not allowed.\n",
              "  inputElement.disabled = true;\n",
              "\n",
              "  if (!files) {\n",
              "    return {\n",
              "      response: {\n",
              "        action: 'complete',\n",
              "      }\n",
              "    };\n",
              "  }\n",
              "\n",
              "  for (const file of files) {\n",
              "    const li = document.createElement('li');\n",
              "    li.append(span(file.name, {fontWeight: 'bold'}));\n",
              "    li.append(span(\n",
              "        `(${file.type || 'n/a'}) - ${file.size} bytes, ` +\n",
              "        `last modified: ${\n",
              "            file.lastModifiedDate ? file.lastModifiedDate.toLocaleDateString() :\n",
              "                                    'n/a'} - `));\n",
              "    const percent = span('0% done');\n",
              "    li.appendChild(percent);\n",
              "\n",
              "    outputElement.appendChild(li);\n",
              "\n",
              "    const fileDataPromise = new Promise((resolve) => {\n",
              "      const reader = new FileReader();\n",
              "      reader.onload = (e) => {\n",
              "        resolve(e.target.result);\n",
              "      };\n",
              "      reader.readAsArrayBuffer(file);\n",
              "    });\n",
              "    // Wait for the data to be ready.\n",
              "    let fileData = yield {\n",
              "      promise: fileDataPromise,\n",
              "      response: {\n",
              "        action: 'continue',\n",
              "      }\n",
              "    };\n",
              "\n",
              "    // Use a chunked sending to avoid message size limits. See b/62115660.\n",
              "    let position = 0;\n",
              "    do {\n",
              "      const length = Math.min(fileData.byteLength - position, MAX_PAYLOAD_SIZE);\n",
              "      const chunk = new Uint8Array(fileData, position, length);\n",
              "      position += length;\n",
              "\n",
              "      const base64 = btoa(String.fromCharCode.apply(null, chunk));\n",
              "      yield {\n",
              "        response: {\n",
              "          action: 'append',\n",
              "          file: file.name,\n",
              "          data: base64,\n",
              "        },\n",
              "      };\n",
              "\n",
              "      let percentDone = fileData.byteLength === 0 ?\n",
              "          100 :\n",
              "          Math.round((position / fileData.byteLength) * 100);\n",
              "      percent.textContent = `${percentDone}% done`;\n",
              "\n",
              "    } while (position < fileData.byteLength);\n",
              "  }\n",
              "\n",
              "  // All done.\n",
              "  yield {\n",
              "    response: {\n",
              "      action: 'complete',\n",
              "    }\n",
              "  };\n",
              "}\n",
              "\n",
              "scope.google = scope.google || {};\n",
              "scope.google.colab = scope.google.colab || {};\n",
              "scope.google.colab._files = {\n",
              "  _uploadFiles,\n",
              "  _uploadFilesContinue,\n",
              "};\n",
              "})(self);\n",
              "</script> "
            ]
          },
          "metadata": {}
        },
        {
          "output_type": "stream",
          "name": "stdout",
          "text": [
            "Saving testImage.png to testImage (2).png\n",
            "1/1 [==============================] - 0s 163ms/step\n"
          ]
        },
        {
          "output_type": "display_data",
          "data": {
            "text/plain": [
              "<PIL.Image.Image image mode=RGB size=224x224>"
            ],
            "image/png": "[encoded data removed]"
          },
          "metadata": {}
        },
        {
          "output_type": "stream",
          "name": "stdout",
          "text": [
            "Predicted: normal\n",
            "No specific treatments are recommended. Regular health check-ups are advised.\n"
          ]
        }
      ]
    }
  ],
  "metadata": {
    "accelerator": "GPU",
    "colab": {
      "provenance": []
    },
    "kernelspec": {
      "display_name": "Python 3",
      "name": "python3"
    },
    "language_info": {
      "name": "python"
    }
  },
  "nbformat": 4,
  "nbformat_minor": 0
}